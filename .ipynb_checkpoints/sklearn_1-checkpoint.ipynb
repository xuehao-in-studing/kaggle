{
 "cells": [
  {
   "cell_type": "code",
   "execution_count": 4,
   "metadata": {},
   "outputs": [
    {
     "ename": "ModuleNotFoundError",
     "evalue": "No module named 'sklearn.model_selection'; 'sklearn' is not a package",
     "output_type": "error",
     "traceback": [
      "\u001b[1;31m---------------------------------------------------------------------------\u001b[0m",
      "\u001b[1;31mModuleNotFoundError\u001b[0m                       Traceback (most recent call last)",
      "Cell \u001b[1;32mIn[4], line 5\u001b[0m\n\u001b[0;32m      3\u001b[0m \u001b[39mimport\u001b[39;00m \u001b[39mmatplotlib\u001b[39;00m\u001b[39m.\u001b[39;00m\u001b[39mpyplot\u001b[39;00m \u001b[39mas\u001b[39;00m \u001b[39mplt\u001b[39;00m\n\u001b[0;32m      4\u001b[0m \u001b[39mimport\u001b[39;00m \u001b[39mos\u001b[39;00m\n\u001b[1;32m----> 5\u001b[0m \u001b[39mfrom\u001b[39;00m \u001b[39msklearn\u001b[39;00m\u001b[39m.\u001b[39;00m\u001b[39mmodel_selection\u001b[39;00m \u001b[39mimport\u001b[39;00m train_test_split\n\u001b[0;32m      6\u001b[0m \u001b[39m# from sklearn.preprocessing import StandardScaler\u001b[39;00m\n\u001b[0;32m      7\u001b[0m \u001b[39mimport\u001b[39;00m \u001b[39mwarnings\u001b[39;00m\n",
      "File \u001b[1;32me:\\ECUST\\2022\\Course\\Python\\sklearn_test\\sklearn.py:5\u001b[0m\n\u001b[0;32m      3\u001b[0m \u001b[39mimport\u001b[39;00m \u001b[39mmatplotlib\u001b[39;00m\u001b[39m.\u001b[39;00m\u001b[39mpyplot\u001b[39;00m \u001b[39mas\u001b[39;00m \u001b[39mplt\u001b[39;00m\n\u001b[0;32m      4\u001b[0m \u001b[39mimport\u001b[39;00m \u001b[39mos\u001b[39;00m\n\u001b[1;32m----> 5\u001b[0m \u001b[39mfrom\u001b[39;00m \u001b[39msklearn\u001b[39;00m\u001b[39m.\u001b[39;00m\u001b[39mmodel_selection\u001b[39;00m \u001b[39mimport\u001b[39;00m train_test_split\n\u001b[0;32m      6\u001b[0m \u001b[39mfrom\u001b[39;00m \u001b[39msklearn\u001b[39;00m\u001b[39m.\u001b[39;00m\u001b[39mpreprocessing\u001b[39;00m \u001b[39mimport\u001b[39;00m StandardScaler\n\u001b[0;32m      7\u001b[0m \u001b[39mimport\u001b[39;00m \u001b[39mwarnings\u001b[39;00m\n",
      "\u001b[1;31mModuleNotFoundError\u001b[0m: No module named 'sklearn.model_selection'; 'sklearn' is not a package"
     ]
    }
   ],
   "source": [
    "import pandas as pd\n",
    "import numpy as np\n",
    "import matplotlib.pyplot as plt\n",
    "import os\n",
    "from sklearn.model_selection import train_test_split\n",
    "# from sklearn.preprocessing import StandardScaler\n",
    "import warnings\n",
    "# filter warnings\n",
    "warnings.filterwarnings('ignore')\n",
    "# 正常显示中文\n",
    "plt.rcParams['font.sans-serif'] = ['SimHei']\n",
    "# 正常显示符号\n",
    "from matplotlib import rcParams\n",
    "rcParams['axes.unicode_minus']=False"
   ]
  },
  {
   "cell_type": "code",
   "execution_count": null,
   "metadata": {},
   "outputs": [],
   "source": [
    "#模型\n",
    "from sklearn.linear_model import LinearRegression\n",
    "from sklearn.neighbors import KNeighborsRegressor\n",
    "from sklearn.svm import SVR\n",
    "from sklearn.tree import DecisionTreeRegressor\n",
    "from sklearn.ensemble import RandomForestRegressor\n",
    "from sklearn.ensemble import AdaBoostRegressor"
   ]
  },
  {
   "cell_type": "code",
   "execution_count": null,
   "metadata": {},
   "outputs": [],
   "source": [
    "data=pd.read_csv('JN_Data2.csv')\n",
    "# print(data.shape)   #(103690, 68)\n",
    "data=data.drop('Date/Time:',axis=1)\n",
    "\n",
    "# 选取焦炉煤气COG的数据\n",
    "data = data.loc[:,lambda df : data.columns.str.contains('^(COG)',regex=True)]\n",
    "data=data.drop('COG_5M3',axis=1)\n",
    "print(data.shape)   #(103690, 19)"
   ]
  },
  {
   "cell_type": "code",
   "execution_count": null,
   "metadata": {},
   "outputs": [],
   "source": [
    "#处理空值列和COG_8M3空值行\n",
    "# print(data.info())\n",
    "data = data.dropna(axis=1,how=\"all\")   # 丢弃全为缺失值的那些列\n",
    "data = data.drop('COG_H_U1',axis=1)\n",
    "# print(data['COG_8M3'].isnull().value_counts())\n",
    "data['COG_8M3'] = data['COG_8M3'].fillna('999')\n",
    "# print(data[(data['COG_8M3']=='999')].index.tolist())\n",
    "data = data.drop([51840, 51841, 51842, 51843, 51844, 51845, 51846, 51847, 51848,51849])\n",
    "# print(data.shape)   #(103680, 16)\n",
    "print(data.info())\n"
   ]
  },
  {
   "cell_type": "code",
   "execution_count": null,
   "metadata": {},
   "outputs": [],
   "source": [
    "\n",
    "#处理数据类型（dtype: float64）\n",
    "data[\"COG_CC1\"] = pd.to_numeric(data[\"COG_CC1\"],errors='coerce')\n",
    "data[\"COG_CC2\"] = pd.to_numeric(data[\"COG_CC2\"],errors='coerce')\n",
    "data[\"COG_CC3\"] = pd.to_numeric(data[\"COG_CC3\"],errors='coerce')\n",
    "data[\"COG_8M3\"] = pd.to_numeric(data[\"COG_8M3\"],errors='coerce')\n",
    "data[\"COG_I_U1\"] = pd.to_numeric(data[\"COG_I_U1\"],errors='coerce')\n",
    "data[\"COG_I_U2\"] = pd.to_numeric(data[\"COG_I_U2\"],errors='coerce')\n",
    "data[\"COG_I_U3\"] = pd.to_numeric(data[\"COG_I_U3\"],errors='coerce')\n",
    "data[\"COG_I_U4\"] = pd.to_numeric(data[\"COG_I_U4\"],errors='coerce')\n",
    "data[\"COG_I_U5\"] = pd.to_numeric(data[\"COG_I_U5\"],errors='coerce')\n",
    "data[\"COG_H_U2\"] = pd.to_numeric(data[\"COG_H_U2\"],errors='coerce')\n",
    "data[\"COG_H_U3\"] = pd.to_numeric(data[\"COG_H_U3\"],errors='coerce')\n",
    "data[\"COG_H_U5\"] = pd.to_numeric(data[\"COG_H_U5\"],errors='coerce')\n",
    "data[\"COG_H_U6\"] = pd.to_numeric(data[\"COG_H_U6\"],errors='coerce')\n",
    "data[\"COG_O_U1\"] = pd.to_numeric(data[\"COG_O_U1\"],errors='coerce')\n",
    "data[\"COG_E_U1\"] = pd.to_numeric(data[\"COG_E_U1\"],errors='coerce')\n"
   ]
  },
  {
   "cell_type": "code",
   "execution_count": null,
   "metadata": {},
   "outputs": [],
   "source": [
    "data.info()"
   ]
  },
  {
   "cell_type": "code",
   "execution_count": null,
   "metadata": {},
   "outputs": [],
   "source": [
    "x = data.loc[:,data.columns != 'COG_8M3']\n",
    "print('x.shape:',x.shape)      \n",
    "y=data.loc[:,'COG_8M3']     \n",
    "print('y.shape:',y.shape)   "
   ]
  },
  {
   "cell_type": "code",
   "execution_count": null,
   "metadata": {},
   "outputs": [],
   "source": [
    "#均值填充缺失值\n",
    "mean_cols = x.mean()\n",
    "# print(mean_cols)\n",
    "x = x.fillna(mean_cols)  \n"
   ]
  },
  {
   "cell_type": "code",
   "execution_count": null,
   "metadata": {},
   "outputs": [],
   "source": [
    "\n",
    "#确认数据无误\n",
    "print(x.info())\n",
    "print(y.isnull().value_counts())\n"
   ]
  },
  {
   "cell_type": "code",
   "execution_count": null,
   "metadata": {},
   "outputs": [],
   "source": [
    "x.hist(figsize=(12, 10), bins=30, edgecolor=\"black\")\n",
    "plt.subplots_adjust(hspace=0.7, wspace=0.4)"
   ]
  },
  {
   "cell_type": "code",
   "execution_count": null,
   "metadata": {},
   "outputs": [],
   "source": [
    "x.describe()"
   ]
  },
  {
   "cell_type": "code",
   "execution_count": null,
   "metadata": {},
   "outputs": [],
   "source": [
    "\n",
    "x_train,x_test,y_train,y_test = train_test_split(x,y,test_size = 0.2,random_state = 1)\n"
   ]
  },
  {
   "cell_type": "code",
   "execution_count": null,
   "metadata": {},
   "outputs": [],
   "source": [
    "lr = LinearRegression()\n",
    "lr.fit(x_train,y_train)\n",
    "y_hat = lr.predict(x_test)\n",
    "# y_test与y_hat的可视化\n",
    "# 设置图片尺寸\n",
    "plt.figure(figsize=(10, 6))\n",
    "# 创建t变量\n",
    "t = np.arange(len(x_test))\n",
    "# 绘制y_test曲线\n",
    "plt.plot(t, y_test, 'r', linewidth=2, label='true value')\n",
    "# 绘制y_hat曲线\n",
    "plt.plot(t, y_hat, 'g', linewidth=2, label='predict value')\n",
    "# 设置图例\n",
    "plt.legend()\n",
    "plt.show()"
   ]
  },
  {
   "cell_type": "code",
   "execution_count": null,
   "metadata": {},
   "outputs": [],
   "source": [
    "knn = KNeighborsRegressor()\n",
    "knn.fit(x_train,y_train)\n",
    "y_hat = knn.predict(x_test)\n",
    "# y_test与y_hat的可视化\n",
    "# 设置图片尺寸\n",
    "plt.figure(figsize=(10, 6))\n",
    "# 创建t变量\n",
    "t = np.arange(len(x_test))\n",
    "# 绘制y_test曲线\n",
    "plt.plot(t, y_test, 'r', linewidth=2, label='true value')\n",
    "# 绘制y_hat曲线\n",
    "plt.plot(t, y_hat, 'g', linewidth=2, label='predict value')\n",
    "# 设置图例\n",
    "plt.legend()\n",
    "plt.show()"
   ]
  },
  {
   "cell_type": "code",
   "execution_count": null,
   "metadata": {},
   "outputs": [],
   "source": [
    "\n",
    "models=[LinearRegression(),KNeighborsRegressor(),DecisionTreeRegressor(),RandomForestRegressor(),AdaBoostRegressor()]\n",
    "models_str=['LinearRegression','KNNRegressor','DecisionTree','RandomForest','AdaBoost']\n",
    "#验证集分数\n",
    "score_1=[]\n",
    "#测试集分数\n",
    "score_2=[]\n",
    "\n",
    "for name,model in zip(models_str,models):\n",
    "    print('开始训练模型：'+name)\n",
    "    model = model   #建立模型\n",
    "    model.fit(x_train,y_train)\n",
    "    y_pred = model.predict(x_test)  \n",
    "    score_trian = model.score(x_train,y_train)\n",
    "    score_1.append(str(score_trian)[:5])\n",
    "    score_test = model.score(x_test,y_test)\n",
    "    score_2.append(str(score_test)[:5])\n"
   ]
  },
  {
   "cell_type": "code",
   "execution_count": null,
   "metadata": {},
   "outputs": [],
   "source": [
    "\n",
    "\n",
    "result = pd.DataFrame({'model':models_str, 'score_trian':score_1 ,'score_test':score_2})\n",
    "print(result)\n",
    "\n"
   ]
  }
 ],
 "metadata": {
  "kernelspec": {
   "display_name": ".venv",
   "language": "python",
   "name": "python3"
  },
  "language_info": {
   "codemirror_mode": {
    "name": "ipython",
    "version": 3
   },
   "file_extension": ".py",
   "mimetype": "text/x-python",
   "name": "python",
   "nbconvert_exporter": "python",
   "pygments_lexer": "ipython3",
   "version": "3.8.8"
  },
  "vscode": {
   "interpreter": {
    "hash": "b63a082b3f979b138536e78d8721e1db915790e217fe699cda8192e3484da2e0"
   }
  }
 },
 "nbformat": 4,
 "nbformat_minor": 2
}
